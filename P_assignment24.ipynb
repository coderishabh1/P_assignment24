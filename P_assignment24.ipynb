{
 "cells": [
  {
   "cell_type": "code",
   "execution_count": 2,
   "id": "51d1934f-6f94-4850-aa0d-4867438ea7d9",
   "metadata": {},
   "outputs": [
    {
     "name": "stdin",
     "output_type": "stream",
     "text": [
      " 4\n"
     ]
    },
    {
     "name": "stdout",
     "output_type": "stream",
     "text": [
      "[1, 2, 3, 40]\n"
     ]
    }
   ],
   "source": [
    "##ans1\n",
    "list1=[]\n",
    "num = int(input())\n",
    "def amplify(num):\n",
    "    for i in range (1,num+1):\n",
    "        if (i%4==0):\n",
    "            list1.append(i*10)\n",
    "        else:\n",
    "            list1.append(i)\n",
    "    return list1\n",
    "print (amplify(num))\n"
   ]
  },
  {
   "cell_type": "code",
   "execution_count": 3,
   "id": "4543c8dd-a069-4fd6-8b60-b577fc75c49a",
   "metadata": {},
   "outputs": [
    {
     "name": "stdin",
     "output_type": "stream",
     "text": [
      " 4\n",
      " 1\n",
      " 1\n",
      " 2\n",
      " 1\n"
     ]
    },
    {
     "name": "stdout",
     "output_type": "stream",
     "text": [
      "nuique element:  2.0\n"
     ]
    }
   ],
   "source": [
    "##ans2\n",
    "list1=[]\n",
    "num = int(input())\n",
    "def unique(list1,num):\n",
    "    for i in range (num):\n",
    "        ele=float(input())\n",
    "        list1.append(ele)\n",
    "    list1.sort()\n",
    "    c1=list1.count(list1[0])\n",
    "    c2=list1.count(list1[num-1])\n",
    "    if (c1>c2):\n",
    "        return (list1[num-1])\n",
    "    else:\n",
    "        return (list1[0])\n",
    "print (\"nuique element: \",unique(list1,num))\n"
   ]
  },
  {
   "cell_type": "code",
   "execution_count": 4,
   "id": "6239e074-399d-44fc-aee2-3eccbbff2aeb",
   "metadata": {},
   "outputs": [
    {
     "name": "stdin",
     "output_type": "stream",
     "text": [
      " 4.44\n"
     ]
    },
    {
     "name": "stdout",
     "output_type": "stream",
     "text": [
      "Area:  61.95702857142858\n",
      "perimeter:  27.90857142857143\n"
     ]
    }
   ],
   "source": [
    "##ans3\n",
    "radius=float(input())\n",
    "def getArea(radius):\n",
    "    return ((22/7)*radius*radius)\n",
    "def getPerimeter(radius):\n",
    "    return (2*(22/7)*radius)\n",
    "print (\"Area: \", getArea(radius))\n",
    "print (\"perimeter: \",getPerimeter(radius))"
   ]
  },
  {
   "cell_type": "code",
   "execution_count": 6,
   "id": "48f3de24-79af-4ad5-850e-7f2c1e2ba3b4",
   "metadata": {},
   "outputs": [
    {
     "name": "stdin",
     "output_type": "stream",
     "text": [
      " google apple microsoft\n"
     ]
    },
    {
     "name": "stdout",
     "output_type": "stream",
     "text": [
      "['apple', 'google', 'microsoft']\n"
     ]
    }
   ],
   "source": [
    "##ans4\n",
    "s=input()\n",
    "def sort_by_length(s):\n",
    "    lst=s.split()\n",
    "    lst.sort()\n",
    "    return lst\n",
    "print (sort_by_length(s))\n",
    "    "
   ]
  },
  {
   "cell_type": "code",
   "execution_count": 9,
   "id": "8f03c2cd-e89a-46bc-add8-3b4b0920ff68",
   "metadata": {},
   "outputs": [
    {
     "name": "stdin",
     "output_type": "stream",
     "text": [
      " 1\n",
      " 2\n",
      " 3\n"
     ]
    },
    {
     "name": "stdout",
     "output_type": "stream",
     "text": [
      "False\n"
     ]
    }
   ],
   "source": [
    "##ans5\n",
    "a=int(input())\n",
    "b=int(input())\n",
    "c=int(input())\n",
    "def is_triplet(a,b,c):\n",
    "    if (((a*a+b*b))==c*c):\n",
    "        return True\n",
    "    else:\n",
    "        return False\n",
    "print(is_triplet(a,b,c))\n",
    "    "
   ]
  },
  {
   "cell_type": "code",
   "execution_count": null,
   "id": "cb3b1334-2c95-436a-8075-d001a9662d81",
   "metadata": {},
   "outputs": [],
   "source": []
  }
 ],
 "metadata": {
  "kernelspec": {
   "display_name": "Python 3 (ipykernel)",
   "language": "python",
   "name": "python3"
  },
  "language_info": {
   "codemirror_mode": {
    "name": "ipython",
    "version": 3
   },
   "file_extension": ".py",
   "mimetype": "text/x-python",
   "name": "python",
   "nbconvert_exporter": "python",
   "pygments_lexer": "ipython3",
   "version": "3.10.6"
  }
 },
 "nbformat": 4,
 "nbformat_minor": 5
}
