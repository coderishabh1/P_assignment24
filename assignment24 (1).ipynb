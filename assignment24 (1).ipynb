{
 "cells": [
  {
   "cell_type": "markdown",
   "id": "0db3591b-902c-494d-a1a6-4459711d7013",
   "metadata": {},
   "source": [
    "##ans1\n",
    "Def can hold multiple expressions while lambda is a uni-expression function. Def generates a function and designates a name to call it later. Lambda forms a function object and returns it."
   ]
  },
  {
   "cell_type": "markdown",
   "id": "eeb6d038-c3d3-43bd-bdd1-fe0d6d01f591",
   "metadata": {},
   "source": [
    "##ans2\n",
    "lambda is a keyword in Python, we use it to create an anonymous function. The main benefit of lambda is better readability."
   ]
  },
  {
   "cell_type": "markdown",
   "id": "19223870-4986-4692-b8b1-26cbb3273825",
   "metadata": {},
   "source": [
    "##ans3\n",
    "The map() function iterates through all items in the given iterable and executes the function we passed as an argument on each of them.\n",
    "Similar to map(), filter() takes a function object and an iterable and creates a new list.\n",
    "As the name suggests, filter() forms a new list that contains only elements that satisfy a certain condition, i.e. the function we passed returns True.\n",
    "reduce() works differently than map() and filter(). It does not return a new list based on the function and iterable we've passed. Instead, it returns a single value.\n",
    "Also, in Python 3 reduce() isn't a built-in function anymore, and it can be found in the functools module."
   ]
  },
  {
   "cell_type": "markdown",
   "id": "36fa7238-bd3c-4dcd-a847-a05bc2b91e22",
   "metadata": {},
   "source": [
    "##ans4\n",
    "Function annotation is the standard way to access the metadata with the arguments and the return value of the function.\n",
    "These are nothing but some random and optional Python expressions that get allied to different parts of the function.\n",
    "They get evaluated only during the compile-time and have no significance during the run-time of the code.\n",
    "They do not have any significance or meaning associated with them until accessed by some third-party libraries.\n",
    "They are used to type check the functions by declaring the type of the parameters and the return value for the functions.\n",
    "The string-based annotations help us to improve the help messages"
   ]
  },
  {
   "cell_type": "markdown",
   "id": "444c674e-681f-45d6-b161-25f611fba432",
   "metadata": {},
   "source": [
    "##ans5\n",
    "A recursive function is a function in code that refers to itself for execution. Recursive functions can be simple or elaborate. They allow for more efficient code writing, for instance, in the listing or compiling of sets of numbers, strings or other variables through a single reiterated process."
   ]
  },
  {
   "cell_type": "markdown",
   "id": "f29a2194-b90e-463a-8b48-5136bc5f87b2",
   "metadata": {},
   "source": [
    "##ans7\n",
    "Name three or more ways that functions can communicate results to a caller\n",
    "\n",
    "Functions can send back results with return statements, by changing passed-in\n",
    "mutable arguments, and by setting global variables. Globals are generally frowned\n",
    "upon (except for very special cases, like multithreaded programs) because they can\n",
    "make code more difficult to understand and use. return statements are usually\n",
    "best, but changing mutables is fine, if expected. Functions may also communicate\n",
    "with system devices such as files and sockets, but these are beyond our scope here."
   ]
  },
  {
   "cell_type": "markdown",
   "id": "0ea6a147-4cb7-458b-9416-881d62412782",
   "metadata": {},
   "source": [
    "##ans6\n",
    "1. Use 4-space indentation and no tabs.\n",
    "2. Use docstrings\n",
    "3. Wrap linethat they don’t exceed 79 characters\n",
    "4. Use of regular and updated comments are valuable to both the coders and users\n",
    "5. Use of trailing commas : in case of tuple -> ('good',)\n",
    "6. Use Python’s default UTF-8 or ASCII encodings and not any fancy encodings\n",
    "7. Naming Conventions\n",
    "8.Characters that should not be used for identifiers :\n",
    "    ‘l’ (lowercase letter el), \n",
    "    ‘O’ (uppercase letter oh), \n",
    "    ‘I’ (uppercase letter eye) as single character variable names as these are similar to the numerals one and zero.\n",
    "9. Don’t use non-ASCII characters in identifiers\n",
    "10. Name your classes and functions consistently\n",
    "11. While naming of function of methods always use self for the first argument"
   ]
  },
  {
   "cell_type": "code",
   "execution_count": null,
   "id": "cdb084ca-bc75-4201-a29d-ca47ea8bd7db",
   "metadata": {},
   "outputs": [],
   "source": []
  }
 ],
 "metadata": {
  "kernelspec": {
   "display_name": "Python 3 (ipykernel)",
   "language": "python",
   "name": "python3"
  },
  "language_info": {
   "codemirror_mode": {
    "name": "ipython",
    "version": 3
   },
   "file_extension": ".py",
   "mimetype": "text/x-python",
   "name": "python",
   "nbconvert_exporter": "python",
   "pygments_lexer": "ipython3",
   "version": "3.10.6"
  }
 },
 "nbformat": 4,
 "nbformat_minor": 5
}
